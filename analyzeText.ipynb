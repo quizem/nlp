{
 "cells": [
  {
   "cell_type": "markdown",
   "metadata": {},
   "source": [
    "### Title: Simple Text Analysis\n"
   ]
  },
  {
   "cell_type": "markdown",
   "metadata": {},
   "source": [
    "### 1. Introduction:\n",
    "In this short project, I demonstrate how to use a very powerful natural language processing tool to perform some quick analytics on a body of text data <br>\n",
    "<br><strong>Goal: </strong>Perform a simple analysis that helps to discover the most important ideas in text document\n",
    "<br>\n",
    "We'll achieve that through a number of techniques including the following:\n",
    "* do a frequncy count of words in the doc\n",
    "* Identify keywords in the text based\n",
    "* extract multi-word phrases in the text document\n",
    "* turn the text into a simple graphic that highlits the most import words or phrases\n",
    "\n",
    "\n"
   ]
  },
  {
   "cell_type": "code",
   "execution_count": 34,
   "metadata": {},
   "outputs": [],
   "source": [
    "#imports\n",
    "\n",
    "# *** NLP tools\n",
    "import spacy \n",
    "import textacy\n",
    "\n",
    "# *** text resources\n",
    "from sklearn.feature_extraction import stop_words\n",
    "\n",
    "# *** Visualization tools\n",
    "import matplotlib.pyplot as plt\n",
    "import matplotlib.style as style\n",
    "\n",
    "# *** Misc tools\n",
    "from collections import Counter\n",
    "import string \n",
    "import pandas as pd"
   ]
  },
  {
   "cell_type": "code",
   "execution_count": null,
   "metadata": {},
   "outputs": [],
   "source": []
  },
  {
   "cell_type": "markdown",
   "metadata": {},
   "source": [
    "### 2 Get data\n",
    "<strong> Data Description:</strong>\n",
    "* The data used in this project comes from the WHO website and is a news release regarding the progress on war against ebola\n",
    "* source: https://www.who.int/news-room/detail/18-06-2019-1-in-3-people-globally-do-not-have-access-to-safe-drinking-water-%E2%80%93-unicef-who"
   ]
  },
  {
   "cell_type": "code",
   "execution_count": 47,
   "metadata": {},
   "outputs": [
    {
     "data": {
      "text/plain": [
       "['## source: https://www.who.int/news-room/detail/18-06-2019-1-in-3-people-globally-do-not-have-access-to-safe-drinking-water-%E2%80%93-unicef-who\\n',\n",
       " '## title: 1 in 3 people globally do not have access to safe drinking water – UNICEF, WHO\\n',\n",
       " '\\n',\n",
       " 'New report on inequalities in access to water, sanitation and hygiene also reveals more than half of the world does not have access to safe sanitation services.\\n',\n",
       " '\\n']"
      ]
     },
     "execution_count": 47,
     "metadata": {},
     "output_type": "execute_result"
    }
   ],
   "source": [
    "# load data\n",
    "with open('WHO_water.txt','r') as inf:\n",
    "    raw_text = inf.readlines()\n",
    "    \n",
    "    \n",
    "# preview what's in the first few lines of the file\n",
    "\n",
    "raw_text[:5] "
   ]
  },
  {
   "cell_type": "markdown",
   "metadata": {},
   "source": [
    "### 2. Preprocessing\n",
    "* <strong>Goal:</strong> Prepare the data for subsequent analysis. We remove any bits of data that isn't helpful for our goals."
   ]
  },
  {
   "cell_type": "code",
   "execution_count": 29,
   "metadata": {},
   "outputs": [
    {
     "name": "stdout",
     "output_type": "stream",
     "text": [
      "['!', '\"', '#', '$', '%', '&', \"'\", '(', ')', '*', '+', ',', '-', '.', '/', ':', ';', '<', '=', '>', '?', '@', '[', '\\\\', ']', '^', '_', '`', '{', '|', '}', '~']\n"
     ]
    }
   ],
   "source": [
    "punctuations = [p for p in string.punctuation]\n",
    "print(punctuations)"
   ]
  },
  {
   "cell_type": "code",
   "execution_count": null,
   "metadata": {},
   "outputs": [],
   "source": []
  },
  {
   "cell_type": "code",
   "execution_count": 48,
   "metadata": {},
   "outputs": [],
   "source": [
    "raw_text =raw_text[3:]                        # remove the first two lines: source url and title respectively\n",
    "raw_text = ''.join(raw_text).replace('\\n','')  # replace '\\n' \n",
    "\n",
    "# remove punctuations\n",
    "cleaned_text = [word for word in raw_text.split(' ') if word not in punctuations]"
   ]
  },
  {
   "cell_type": "markdown",
   "metadata": {},
   "source": [
    "### 3. Text statistics"
   ]
  },
  {
   "cell_type": "code",
   "execution_count": 150,
   "metadata": {},
   "outputs": [],
   "source": [
    "# Q1: What are the most common words?"
   ]
  },
  {
   "cell_type": "code",
   "execution_count": 49,
   "metadata": {},
   "outputs": [
    {
     "data": {
      "text/plain": [
       "[('and', 41),\n",
       " ('the', 33),\n",
       " ('of', 27),\n",
       " ('to', 25),\n",
       " ('in', 22),\n",
       " ('sanitation', 13),\n",
       " ('access', 11),\n",
       " ('people', 11),\n",
       " ('water', 11),\n",
       " ('have', 10)]"
      ]
     },
     "execution_count": 49,
     "metadata": {},
     "output_type": "execute_result"
    }
   ],
   "source": [
    "counts = Counter(cleaned_text)\n",
    "counts.most_common(10)"
   ]
  },
  {
   "cell_type": "markdown",
   "metadata": {},
   "source": [
    "### Notes:\n",
    "It appears the most common words do not carry much meaning (mostly English stopwords), so we remove them and then check the most common words again"
   ]
  },
  {
   "cell_type": "code",
   "execution_count": 50,
   "metadata": {},
   "outputs": [
    {
     "data": {
      "text/plain": [
       "[('sanitation', 13),\n",
       " ('access', 11),\n",
       " ('people', 11),\n",
       " ('water', 11),\n",
       " ('basic', 8),\n",
       " ('water,', 7),\n",
       " ('billion', 7),\n",
       " ('drinking', 6),\n",
       " ('report', 5),\n",
       " ('services', 5)]"
      ]
     },
     "execution_count": 50,
     "metadata": {},
     "output_type": "execute_result"
    }
   ],
   "source": [
    "stopWords = stop_words.ENGLISH_STOP_WORDS\n",
    "cleaned_text = [word for word in cleaned_text if word not in stopWords]  # remove stopwords\n",
    "\n",
    "counts = Counter(cleaned_text)\n",
    "counts.most_common(10)"
   ]
  },
  {
   "cell_type": "markdown",
   "metadata": {},
   "source": [
    "### Now..\n",
    "it makes sense that our most common words are water, people and access which clearly refelct the topic of the text"
   ]
  },
  {
   "cell_type": "code",
   "execution_count": 51,
   "metadata": {},
   "outputs": [
    {
     "data": {
      "text/plain": [
       "{'n_sents': 30,\n",
       " 'n_words': 915,\n",
       " 'n_chars': 4853,\n",
       " 'n_syllables': 1534,\n",
       " 'n_unique_words': 397,\n",
       " 'n_long_words': 272,\n",
       " 'n_monosyllable_words': 532,\n",
       " 'n_polysyllable_words': 153}"
      ]
     },
     "execution_count": 51,
     "metadata": {},
     "output_type": "execute_result"
    }
   ],
   "source": [
    "# more text statistics:\n",
    "\n",
    "from textacy.text_stats import TextStats\n",
    "\n",
    "\n",
    "doc = textacy.make_spacy_doc(raw_text)   # create a doc using textacy interface\n",
    "\n",
    "ts = TextStats(doc)\n",
    "ts.basic_counts"
   ]
  },
  {
   "cell_type": "markdown",
   "metadata": {},
   "source": [
    "### 3. Analysis & Visualization\n",
    "We can easily visualize some the analysis we did above using matplotlib. A very effective way to do that is to structure your data in pandas dataframe\n",
    "* we'll create a simple dataframe and then visualize the data\n"
   ]
  },
  {
   "cell_type": "code",
   "execution_count": 15,
   "metadata": {},
   "outputs": [],
   "source": [
    "#plt.style.use('fivethirtyeight')"
   ]
  },
  {
   "cell_type": "code",
   "execution_count": 52,
   "metadata": {},
   "outputs": [
    {
     "data": {
      "text/html": [
       "<div>\n",
       "<style scoped>\n",
       "    .dataframe tbody tr th:only-of-type {\n",
       "        vertical-align: middle;\n",
       "    }\n",
       "\n",
       "    .dataframe tbody tr th {\n",
       "        vertical-align: top;\n",
       "    }\n",
       "\n",
       "    .dataframe thead th {\n",
       "        text-align: right;\n",
       "    }\n",
       "</style>\n",
       "<table border=\"1\" class=\"dataframe\">\n",
       "  <thead>\n",
       "    <tr style=\"text-align: right;\">\n",
       "      <th></th>\n",
       "      <th>word</th>\n",
       "      <th>count</th>\n",
       "    </tr>\n",
       "  </thead>\n",
       "  <tbody>\n",
       "    <tr>\n",
       "      <th>0</th>\n",
       "      <td>sanitation</td>\n",
       "      <td>13</td>\n",
       "    </tr>\n",
       "    <tr>\n",
       "      <th>1</th>\n",
       "      <td>access</td>\n",
       "      <td>11</td>\n",
       "    </tr>\n",
       "    <tr>\n",
       "      <th>2</th>\n",
       "      <td>people</td>\n",
       "      <td>11</td>\n",
       "    </tr>\n",
       "    <tr>\n",
       "      <th>3</th>\n",
       "      <td>water</td>\n",
       "      <td>11</td>\n",
       "    </tr>\n",
       "    <tr>\n",
       "      <th>4</th>\n",
       "      <td>basic</td>\n",
       "      <td>8</td>\n",
       "    </tr>\n",
       "  </tbody>\n",
       "</table>\n",
       "</div>"
      ],
      "text/plain": [
       "         word  count\n",
       "0  sanitation     13\n",
       "1      access     11\n",
       "2      people     11\n",
       "3       water     11\n",
       "4       basic      8"
      ]
     },
     "execution_count": 52,
     "metadata": {},
     "output_type": "execute_result"
    }
   ],
   "source": [
    "# Q1\n",
    "\n",
    "df = pd.DataFrame(counts.most_common(),columns=['word','count'])\n",
    "df.head()"
   ]
  },
  {
   "cell_type": "code",
   "execution_count": 53,
   "metadata": {},
   "outputs": [
    {
     "data": {
      "text/plain": [
       "Text(0, 0.5, 'Word')"
      ]
     },
     "execution_count": 53,
     "metadata": {},
     "output_type": "execute_result"
    },
    {
     "data": {
      "image/png": "[encoded data removed]",
      "text/plain": [
       "<Figure size 864x648 with 1 Axes>"
      ]
     },
     "metadata": {
      "needs_background": "light"
     },
     "output_type": "display_data"
    }
   ],
   "source": [
    "df[:10].plot(kind='barh',x='word',figsize=(12,9))\n",
    "plt.title('Most Common Words in the Text')\n",
    "plt.xlabel('Word Count')\n",
    "plt.ylabel('Word')"
   ]
  },
  {
   "cell_type": "code",
   "execution_count": 23,
   "metadata": {},
   "outputs": [],
   "source": [
    "# Q2: What are the most common multi-word phrases?\n",
    "# We use textacy from this point on"
   ]
  },
  {
   "cell_type": "code",
   "execution_count": 54,
   "metadata": {},
   "outputs": [
    {
     "data": {
      "text/plain": [
       "Counter({'new report': 2,\n",
       "         'sanitation services': 4,\n",
       "         'billion people': 6,\n",
       "         'safely managed': 3,\n",
       "         'drinking water': 7,\n",
       "         'water services': 2,\n",
       "         '3 billion': 2,\n",
       "         'lack basic': 4,\n",
       "         'handwashing facilities': 4,\n",
       "         'joint monitoring': 2,\n",
       "         'monitoring programme': 2,\n",
       "         'universal access': 2,\n",
       "         'said kelly': 2,\n",
       "         'kelly ann': 2,\n",
       "         'ann naylor': 2,\n",
       "         'gained access': 2,\n",
       "         '10 people': 2,\n",
       "         'basic services': 3,\n",
       "         'rural areas': 2,\n",
       "         'hepatitis a': 2,\n",
       "         'basic sanitation': 2,\n",
       "         'least developed': 2,\n",
       "         'developed countries': 2,\n",
       "         'practicing open': 3,\n",
       "         'open defecation': 5,\n",
       "         'basic handwashing': 2})"
      ]
     },
     "execution_count": 54,
     "metadata": {},
     "output_type": "execute_result"
    }
   ],
   "source": [
    "# NOTE: we use the previously created doc from the text statistics section\n",
    "\n",
    "common_phrases = list(textacy.extract.ngrams(doc,n=2,filter_stops=True,filter_punct=True,min_freq=2))\n",
    "common_phrases = [phrase.text.lower() for phrase in common_phrases]\n",
    "commonPhrases_counts = Counter(common_phrases)\n",
    "commonPhrases_counts"
   ]
  },
  {
   "cell_type": "code",
   "execution_count": null,
   "metadata": {},
   "outputs": [],
   "source": []
  },
  {
   "cell_type": "code",
   "execution_count": 55,
   "metadata": {},
   "outputs": [
    {
     "data": {
      "text/plain": [
       "Text(0, 0.5, 'Phrase')"
      ]
     },
     "execution_count": 55,
     "metadata": {},
     "output_type": "execute_result"
    },
    {
     "data": {
      "image/png": "[encoded data removed]",
      "text/plain": [
       "<Figure size 864x648 with 1 Axes>"
      ]
     },
     "metadata": {
      "needs_background": "light"
     },
     "output_type": "display_data"
    }
   ],
   "source": [
    "common_phrase_df =pd.DataFrame(commonPhrases_counts.most_common(),columns=['phrase','count'])\n",
    "common_phrase_df[:10].plot(kind='barh',x='phrase',y='count',figsize=(12,9))\n",
    "plt.title('Common Phrases in the Text')\n",
    "plt.xlabel('Phrase Count')\n",
    "plt.ylabel('Phrase')\n"
   ]
  },
  {
   "cell_type": "code",
   "execution_count": 22,
   "metadata": {},
   "outputs": [],
   "source": [
    "# Q3: What are the main references to people, places, and organizations (also called entities)in the text?"
   ]
  },
  {
   "cell_type": "code",
   "execution_count": 56,
   "metadata": {},
   "outputs": [
    {
     "data": {
      "text/plain": [
       "[('UNICEF', 'ORG'),\n",
       " ('the World Health Organization', 'ORG'),\n",
       " ('The Joint Monitoring Programme', 'ORG'),\n",
       " ('Kelly Ann Naylor', 'PERSON'),\n",
       " ('Water, Sanitation and Hygiene', 'ORG'),\n",
       " ('UNICEF', 'ORG'),\n",
       " ('Maria Neira', 'PERSON'),\n",
       " ('WHO', 'ORG'),\n",
       " ('Department of Public Health, Environmental and Social Determinants of Health',\n",
       "  'ORG'),\n",
       " ('the Least Developed Countries', 'LOC'),\n",
       " (' Worse', 'ORG'),\n",
       " ('Saharan Africa', 'GPE'),\n",
       " ('the Least Developed Countries', 'ORG'),\n",
       " ('WASH', 'ORG'),\n",
       " ('Kelly Ann Naylor', 'PERSON'),\n",
       " ('Angola', 'GPE'),\n",
       " ('Benin', 'GPE'),\n",
       " ('Burkina Faso', 'ORG'),\n",
       " ('Cambodia', 'GPE'),\n",
       " ('Chad', 'GPE'),\n",
       " ('China', 'GPE'),\n",
       " ('Democratic Republic of the Congo', 'GPE'),\n",
       " ('Eritrea', 'GPE'),\n",
       " ('Ethiopia', 'GPE'),\n",
       " ('Ghana', 'GPE'),\n",
       " ('India', 'GPE'),\n",
       " ('Indonesia', 'GPE'),\n",
       " ('Kenya', 'GPE'),\n",
       " ('Madagascar', 'GPE'),\n",
       " ('Mozambique', 'GPE'),\n",
       " ('Nepal', 'GPE'),\n",
       " ('Niger', 'GPE'),\n",
       " ('Nigeria', 'GPE'),\n",
       " ('Pakistan', 'GPE'),\n",
       " ('Philippines', 'GPE'),\n",
       " ('Sudan', 'GPE'),\n",
       " ('South Sudan', 'GPE'),\n",
       " ('Togo', 'GPE'),\n",
       " ('United Republic of Tanzania', 'GPE'),\n",
       " ('Yemen', 'GPE'),\n",
       " ('WHO/UNICEF Joint Monitoring Programme', 'ORG'),\n",
       " ('JMP', 'ORG'),\n",
       " ('Water Supply', 'ORG'),\n",
       " ('Sanitation', 'ORG'),\n",
       " ('Hygiene', 'PERSON'),\n",
       " ('United Nations', 'ORG'),\n",
       " ('SDG', 'ORG'),\n",
       " ('JMP', 'ORG')]"
      ]
     },
     "execution_count": 56,
     "metadata": {},
     "output_type": "execute_result"
    }
   ],
   "source": [
    "entities = [(ent.text,ent.label_) for ent in doc.ents if ent.label_ in ['PERSON','ORG','LOC','GPE','']]\n",
    "entities"
   ]
  },
  {
   "cell_type": "markdown",
   "metadata": {},
   "source": [
    "### Observe...\n",
    "that a few of the items extracted as a PERSON was wrong, but then we got it right for most of the remaining text. This is good enough for our purpose, and also we can manually remove the wrong entry"
   ]
  },
  {
   "cell_type": "code",
   "execution_count": 57,
   "metadata": {},
   "outputs": [
    {
     "data": {
      "text/html": [
       "<div>\n",
       "<style scoped>\n",
       "    .dataframe tbody tr th:only-of-type {\n",
       "        vertical-align: middle;\n",
       "    }\n",
       "\n",
       "    .dataframe tbody tr th {\n",
       "        vertical-align: top;\n",
       "    }\n",
       "\n",
       "    .dataframe thead th {\n",
       "        text-align: right;\n",
       "    }\n",
       "</style>\n",
       "<table border=\"1\" class=\"dataframe\">\n",
       "  <thead>\n",
       "    <tr style=\"text-align: right;\">\n",
       "      <th></th>\n",
       "      <th>entity</th>\n",
       "      <th>type</th>\n",
       "      <th>description</th>\n",
       "    </tr>\n",
       "  </thead>\n",
       "  <tbody>\n",
       "    <tr>\n",
       "      <th>0</th>\n",
       "      <td>UNICEF</td>\n",
       "      <td>ORG</td>\n",
       "      <td>Organization</td>\n",
       "    </tr>\n",
       "    <tr>\n",
       "      <th>1</th>\n",
       "      <td>the World Health Organization</td>\n",
       "      <td>ORG</td>\n",
       "      <td>Organization</td>\n",
       "    </tr>\n",
       "    <tr>\n",
       "      <th>2</th>\n",
       "      <td>The Joint Monitoring Programme</td>\n",
       "      <td>ORG</td>\n",
       "      <td>Organization</td>\n",
       "    </tr>\n",
       "    <tr>\n",
       "      <th>3</th>\n",
       "      <td>Kelly Ann Naylor</td>\n",
       "      <td>PERSON</td>\n",
       "      <td>Any person as the word suggests</td>\n",
       "    </tr>\n",
       "    <tr>\n",
       "      <th>4</th>\n",
       "      <td>Water, Sanitation and Hygiene</td>\n",
       "      <td>ORG</td>\n",
       "      <td>Organization</td>\n",
       "    </tr>\n",
       "  </tbody>\n",
       "</table>\n",
       "</div>"
      ],
      "text/plain": [
       "                           entity    type                      description\n",
       "0                          UNICEF     ORG                     Organization\n",
       "1   the World Health Organization     ORG                     Organization\n",
       "2  The Joint Monitoring Programme     ORG                     Organization\n",
       "3                Kelly Ann Naylor  PERSON  Any person as the word suggests\n",
       "4   Water, Sanitation and Hygiene     ORG                     Organization"
      ]
     },
     "execution_count": 57,
     "metadata": {},
     "output_type": "execute_result"
    }
   ],
   "source": [
    "description_map = {'GPE':'Geopolitical Entity eg country',\n",
    "                   'LOC':'Location,place etc',\n",
    "                   'ORG':'Organization',\n",
    "                   'PERSON':'Any person as the word suggests'}\n",
    "entity_df=pd.DataFrame(entities,columns=['entity','type'])\n",
    "entity_df['description'] = entity_df['type'].map(description_map)\n",
    "entity_df.head()"
   ]
  },
  {
   "cell_type": "code",
   "execution_count": 26,
   "metadata": {},
   "outputs": [
    {
     "data": {
      "text/html": [
       "<div>\n",
       "<style scoped>\n",
       "    .dataframe tbody tr th:only-of-type {\n",
       "        vertical-align: middle;\n",
       "    }\n",
       "\n",
       "    .dataframe tbody tr th {\n",
       "        vertical-align: top;\n",
       "    }\n",
       "\n",
       "    .dataframe thead th {\n",
       "        text-align: right;\n",
       "    }\n",
       "</style>\n",
       "<table border=\"1\" class=\"dataframe\">\n",
       "  <thead>\n",
       "    <tr style=\"text-align: right;\">\n",
       "      <th></th>\n",
       "      <th>entity</th>\n",
       "      <th>description</th>\n",
       "    </tr>\n",
       "    <tr>\n",
       "      <th>type</th>\n",
       "      <th></th>\n",
       "      <th></th>\n",
       "    </tr>\n",
       "  </thead>\n",
       "  <tbody>\n",
       "    <tr>\n",
       "      <th>GPE</th>\n",
       "      <td>25</td>\n",
       "      <td>25</td>\n",
       "    </tr>\n",
       "    <tr>\n",
       "      <th>LOC</th>\n",
       "      <td>1</td>\n",
       "      <td>1</td>\n",
       "    </tr>\n",
       "    <tr>\n",
       "      <th>ORG</th>\n",
       "      <td>18</td>\n",
       "      <td>18</td>\n",
       "    </tr>\n",
       "    <tr>\n",
       "      <th>PERSON</th>\n",
       "      <td>4</td>\n",
       "      <td>4</td>\n",
       "    </tr>\n",
       "  </tbody>\n",
       "</table>\n",
       "</div>"
      ],
      "text/plain": [
       "        entity  description\n",
       "type                       \n",
       "GPE         25           25\n",
       "LOC          1            1\n",
       "ORG         18           18\n",
       "PERSON       4            4"
      ]
     },
     "execution_count": 26,
     "metadata": {},
     "output_type": "execute_result"
    }
   ],
   "source": [
    "entity_df.groupby(by='type').count()"
   ]
  },
  {
   "cell_type": "markdown",
   "metadata": {},
   "source": [
    "### Note:\n",
    "There's a lot references to places in the text. Which makes a lot of sense since the text is about water crisis in these places"
   ]
  },
  {
   "cell_type": "markdown",
   "metadata": {},
   "source": [
    "### Conclusion\n",
    "\n",
    "In this project we we analysed analysed a simple text document to understand what the most important pieces of information in are. We extracted keywords and also names of entities using spacy and textacy. This is just a simple demo of what you can do with nlp."
   ]
  }
 ],
 "metadata": {
  "kernelspec": {
   "display_name": "Python 3",
   "language": "python",
   "name": "python3"
  },
  "language_info": {
   "codemirror_mode": {
    "name": "ipython",
    "version": 3
   },
   "file_extension": ".py",
   "mimetype": "text/x-python",
   "name": "python",
   "nbconvert_exporter": "python",
   "pygments_lexer": "ipython3",
   "version": "3.6.7"
  }
 },
 "nbformat": 4,
 "nbformat_minor": 2
}

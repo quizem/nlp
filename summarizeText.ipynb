{
 "cells": [
  {
   "cell_type": "markdown",
   "metadata": {},
   "source": [
    "### Title: Simple Text Analysis\n"
   ]
  },
  {
   "cell_type": "markdown",
   "metadata": {},
   "source": [
    "### 1. Introduction:\n",
    "This project is an interesting demo on the application of natural language processing to summarize text documents <br>\n",
    "<br><strong>Goal: </strong>We'll use gensim tool to perform a quick summary on a short body of text \n",
    "We'll want to :\n",
    "* summarize the document so that the final output will be about 2% the length of the orignal text\n",
    "* \n",
    "\n"
   ]
  },
  {
   "cell_type": "code",
   "execution_count": 145,
   "metadata": {},
   "outputs": [],
   "source": [
    "#imports\n",
    "\n",
    "# *** NLP tools\n",
    "#import textacy\n",
    "from gensim.summarization.summarizer import summarize\n",
    "\n",
    "\n",
    "# *** text resources\n",
    "\n",
    "# *** Visualization tools\n",
    "import matplotlib.pyplot as plt\n",
    "import matplotlib.style as style\n",
    "\n",
    "# *** Misc tools\n",
    "from collections import Counter\n",
    "import string \n",
    "import pandas as pd"
   ]
  },
  {
   "cell_type": "code",
   "execution_count": null,
   "metadata": {},
   "outputs": [],
   "source": []
  },
  {
   "cell_type": "markdown",
   "metadata": {},
   "source": [
    "### 2 Get data\n",
    "<strong> Data Description:</strong>\n",
    "* The data used in this project comes from the WHO website and is a news release regarding the progress on war against ebola\n",
    "* source:  https://www.unenvironment.org/news-and-stories/editorial/facing-our-global-environmental-challenges-requires-efficient"
   ]
  },
  {
   "cell_type": "code",
   "execution_count": 124,
   "metadata": {},
   "outputs": [
    {
     "data": {
      "text/plain": [
       "['## Source: https://www.unenvironment.org/news-and-stories/editorial/facing-our-global-environmental-challenges-requires-efficient\\n',\n",
       " '## title: Facing our global environmental challenges requires efficient international cooperation\\n',\n",
       " '\\n',\n",
       " 'The changes we need are huge—time is short\\n',\n",
       " '\\n']"
      ]
     },
     "execution_count": 124,
     "metadata": {},
     "output_type": "execute_result"
    }
   ],
   "source": [
    "# load data\n",
    "with open('UNEnvironment_gloabl_challenges.txt','r') as inf:\n",
    "    raw_text = inf.readlines()\n",
    "    \n",
    "    \n",
    "# preview what's in the first few lines of the file\n",
    "\n",
    "raw_text[:5]"
   ]
  },
  {
   "cell_type": "markdown",
   "metadata": {},
   "source": [
    "### 2. Preprocessing\n",
    "* <strong>Goal:</strong> Prepare the data for subsequent analysis. We remove any bits of data that isn't helpful for our goals."
   ]
  },
  {
   "cell_type": "code",
   "execution_count": 125,
   "metadata": {},
   "outputs": [],
   "source": [
    "# remove the first two lines: source url and title respectively\n",
    "\n",
    "raw_text =raw_text[3:]                        \n",
    "raw_text = ''.join(raw_text).replace('\\n','')  # replace '\\n' "
   ]
  },
  {
   "cell_type": "markdown",
   "metadata": {},
   "source": [
    "### 3. Text summary"
   ]
  },
  {
   "cell_type": "code",
   "execution_count": 126,
   "metadata": {},
   "outputs": [
    {
     "name": "stdout",
     "output_type": "stream",
     "text": [
      "The original document is 1067 words long\n"
     ]
    }
   ],
   "source": [
    "### NOTE:\n",
    "print('The original document is',len(raw_text.split(' ')),'words long' )"
   ]
  },
  {
   "cell_type": "code",
   "execution_count": 28,
   "metadata": {},
   "outputs": [
    {
     "name": "stdout",
     "output_type": "stream",
     "text": [
      "Our planet and humankind face three unprecedented, mutually reinforcing challenges: climate change, the loss of biodiversity and the overuse of critical natural resources.In the past year, we have seen intense heatwaves and raging wildfires in Europe, the United States and in Japan cause huge economical loss and damage.\n",
      "State budgeting is, in our view, a very powerful tool to implement the 2030 Agenda.Finland also has strong cross-sectoral coordination mechanisms between different ministries as well as other environmental interest groups.No country, however, can successfully meet these global challenges on their own.\n",
      "Reform efforts have focused specifically on 1) the governance, financing, and functioning of UN Environment, and 2) enhancement of synergies among multilateral environmental agreements.The most significant reform so far has been the transformation of UN Environment’s 58-member governing council into the universal UN Environment Assembly, bringing political leaders of all United Nations Member States to the same table to discuss our common environmental agenda.\n",
      "We must use this process well and, in accordance with the decision taken at the Fourth Assembly, keep the broad vision of a strengthened UN Environment Assembly firmly in mind.Finland will hold the Presidency of the European Council for six months as of 1 July 2019 and will be in a key position to coordinate the European Union’s views on the review process.Boosting the environmental voice and agenda within the United Nations systemWe also need to discuss UN Environment’s and the Assembly’s role in the wider United Nations system, to bring the environment more firmly to the core of the United Nations.\n",
      "Linkages between the UN Environment Assembly and the governing bodies of other United Nations entities, the High-Level Political Forum as well as multilateral environmental agreements are crucial and need to be promoted in order to support the 2030 Agenda implementation.Finland underlines UN Environment’s role as the main environmental coordinating body of the United Nations, working with other United Nations agencies through the Environment Management Group, with members from 51 multilateral bodies.The ongoing broader United Nations reform offers good opportunities to enhance collaboration with the United Nations at the national level and to decrease competition between United Nations agencies.\n",
      "We support ongoing efforts within UN Environment to actively participate in the implementation of the United Nations reform.Fragmentation versus synergyA key challenge for effective international environmental governance is fragmentation.\n"
     ]
    }
   ],
   "source": [
    "# Q1: What are the most common words?\n",
    "summary = summarize(raw_text,ratio=0.2,split=False)\n",
    "print(summary)"
   ]
  },
  {
   "cell_type": "code",
   "execution_count": 19,
   "metadata": {},
   "outputs": [
    {
     "name": "stdout",
     "output_type": "stream",
     "text": [
      "The summarized document is 378 words long\n"
     ]
    }
   ],
   "source": [
    "print('The summarized document is',len(summary.split(' ')),'words long' )"
   ]
  },
  {
   "cell_type": "markdown",
   "metadata": {},
   "source": [
    "### 5. References to places,people,etc in the data"
   ]
  },
  {
   "cell_type": "code",
   "execution_count": 40,
   "metadata": {},
   "outputs": [
    {
     "data": {
      "text/html": [
       "<div>\n",
       "<style scoped>\n",
       "    .dataframe tbody tr th:only-of-type {\n",
       "        vertical-align: middle;\n",
       "    }\n",
       "\n",
       "    .dataframe tbody tr th {\n",
       "        vertical-align: top;\n",
       "    }\n",
       "\n",
       "    .dataframe thead th {\n",
       "        text-align: right;\n",
       "    }\n",
       "</style>\n",
       "<table border=\"1\" class=\"dataframe\">\n",
       "  <thead>\n",
       "    <tr style=\"text-align: right;\">\n",
       "      <th></th>\n",
       "      <th>entity</th>\n",
       "      <th>type</th>\n",
       "    </tr>\n",
       "  </thead>\n",
       "  <tbody>\n",
       "    <tr>\n",
       "      <th>0</th>\n",
       "      <td>Erik Lundberg</td>\n",
       "      <td>PERSON</td>\n",
       "    </tr>\n",
       "    <tr>\n",
       "      <th>1</th>\n",
       "      <td>Finland</td>\n",
       "      <td>GPE</td>\n",
       "    </tr>\n",
       "    <tr>\n",
       "      <th>2</th>\n",
       "      <td>Kenya</td>\n",
       "      <td>GPE</td>\n",
       "    </tr>\n",
       "    <tr>\n",
       "      <th>3</th>\n",
       "      <td>Somalia</td>\n",
       "      <td>GPE</td>\n",
       "    </tr>\n",
       "    <tr>\n",
       "      <th>4</th>\n",
       "      <td>Uganda</td>\n",
       "      <td>GPE</td>\n",
       "    </tr>\n",
       "  </tbody>\n",
       "</table>\n",
       "</div>"
      ],
      "text/plain": [
       "          entity    type\n",
       "0  Erik Lundberg  PERSON\n",
       "1        Finland     GPE\n",
       "2          Kenya     GPE\n",
       "3        Somalia     GPE\n",
       "4         Uganda     GPE"
      ]
     },
     "execution_count": 40,
     "metadata": {},
     "output_type": "execute_result"
    }
   ],
   "source": [
    "entities = list((ent.text,ent.label_)for ent in textacy.extract.entities(doc,include_types=['PERSON','ORG','GPE','LOC']))\n",
    "entity_df = pd.DataFrame(entities,columns=['entity','type'])\n",
    "entity_df.head()"
   ]
  },
  {
   "cell_type": "code",
   "execution_count": 94,
   "metadata": {},
   "outputs": [],
   "source": [
    "# Quick analysis on the references to people, places etc\n",
    "\n",
    "group = entity_df.groupby(by='entity').count().sort_values(by='type',ascending=False)"
   ]
  },
  {
   "cell_type": "code",
   "execution_count": 103,
   "metadata": {},
   "outputs": [
    {
     "data": {
      "text/html": [
       "<style  type=\"text/css\" >\n",
       "    #T_677fd05c_9fdc_11e9_b3aa_f82819e4939arow0_col0 {\n",
       "            background-color:  #008000;\n",
       "            color:  #f1f1f1;\n",
       "        }    #T_677fd05c_9fdc_11e9_b3aa_f82819e4939arow1_col0 {\n",
       "            background-color:  #269526;\n",
       "            color:  #000000;\n",
       "        }    #T_677fd05c_9fdc_11e9_b3aa_f82819e4939arow2_col0 {\n",
       "            background-color:  #86ca86;\n",
       "            color:  #000000;\n",
       "        }    #T_677fd05c_9fdc_11e9_b3aa_f82819e4939arow3_col0 {\n",
       "            background-color:  #99d599;\n",
       "            color:  #000000;\n",
       "        }    #T_677fd05c_9fdc_11e9_b3aa_f82819e4939arow4_col0 {\n",
       "            background-color:  #acdfac;\n",
       "            color:  #000000;\n",
       "        }    #T_677fd05c_9fdc_11e9_b3aa_f82819e4939arow5_col0 {\n",
       "            background-color:  #d3f5d3;\n",
       "            color:  #000000;\n",
       "        }    #T_677fd05c_9fdc_11e9_b3aa_f82819e4939arow6_col0 {\n",
       "            background-color:  #d3f5d3;\n",
       "            color:  #000000;\n",
       "        }    #T_677fd05c_9fdc_11e9_b3aa_f82819e4939arow7_col0 {\n",
       "            background-color:  #e5ffe5;\n",
       "            color:  #000000;\n",
       "        }    #T_677fd05c_9fdc_11e9_b3aa_f82819e4939arow8_col0 {\n",
       "            background-color:  #e5ffe5;\n",
       "            color:  #000000;\n",
       "        }    #T_677fd05c_9fdc_11e9_b3aa_f82819e4939arow9_col0 {\n",
       "            background-color:  #e5ffe5;\n",
       "            color:  #000000;\n",
       "        }</style><table id=\"T_677fd05c_9fdc_11e9_b3aa_f82819e4939a\" ><thead>    <tr>        <th class=\"blank level0\" ></th>        <th class=\"col_heading level0 col0\" >type</th>    </tr>    <tr>        <th class=\"index_name level0\" >entity</th>        <th class=\"blank\" ></th>    </tr></thead><tbody>\n",
       "                <tr>\n",
       "                        <th id=\"T_677fd05c_9fdc_11e9_b3aa_f82819e4939alevel0_row0\" class=\"row_heading level0 row0\" >United Nations</th>\n",
       "                        <td id=\"T_677fd05c_9fdc_11e9_b3aa_f82819e4939arow0_col0\" class=\"data row0 col0\" >13</td>\n",
       "            </tr>\n",
       "            <tr>\n",
       "                        <th id=\"T_677fd05c_9fdc_11e9_b3aa_f82819e4939alevel0_row1\" class=\"row_heading level0 row1\" >UN Environment Assembly</th>\n",
       "                        <td id=\"T_677fd05c_9fdc_11e9_b3aa_f82819e4939arow1_col0\" class=\"data row1 col0\" >11</td>\n",
       "            </tr>\n",
       "            <tr>\n",
       "                        <th id=\"T_677fd05c_9fdc_11e9_b3aa_f82819e4939alevel0_row2\" class=\"row_heading level0 row2\" >Finland</th>\n",
       "                        <td id=\"T_677fd05c_9fdc_11e9_b3aa_f82819e4939arow2_col0\" class=\"data row2 col0\" >6</td>\n",
       "            </tr>\n",
       "            <tr>\n",
       "                        <th id=\"T_677fd05c_9fdc_11e9_b3aa_f82819e4939alevel0_row3\" class=\"row_heading level0 row3\" >UN Environment</th>\n",
       "                        <td id=\"T_677fd05c_9fdc_11e9_b3aa_f82819e4939arow3_col0\" class=\"data row3 col0\" >5</td>\n",
       "            </tr>\n",
       "            <tr>\n",
       "                        <th id=\"T_677fd05c_9fdc_11e9_b3aa_f82819e4939alevel0_row4\" class=\"row_heading level0 row4\" >UN Environment’s</th>\n",
       "                        <td id=\"T_677fd05c_9fdc_11e9_b3aa_f82819e4939arow4_col0\" class=\"data row4 col0\" >4</td>\n",
       "            </tr>\n",
       "            <tr>\n",
       "                        <th id=\"T_677fd05c_9fdc_11e9_b3aa_f82819e4939alevel0_row5\" class=\"row_heading level0 row5\" >UN Environment Programme</th>\n",
       "                        <td id=\"T_677fd05c_9fdc_11e9_b3aa_f82819e4939arow5_col0\" class=\"data row5 col0\" >2</td>\n",
       "            </tr>\n",
       "            <tr>\n",
       "                        <th id=\"T_677fd05c_9fdc_11e9_b3aa_f82819e4939alevel0_row6\" class=\"row_heading level0 row6\" >Somalia</th>\n",
       "                        <td id=\"T_677fd05c_9fdc_11e9_b3aa_f82819e4939arow6_col0\" class=\"data row6 col0\" >2</td>\n",
       "            </tr>\n",
       "            <tr>\n",
       "                        <th id=\"T_677fd05c_9fdc_11e9_b3aa_f82819e4939alevel0_row7\" class=\"row_heading level0 row7\" >Africa</th>\n",
       "                        <td id=\"T_677fd05c_9fdc_11e9_b3aa_f82819e4939arow7_col0\" class=\"data row7 col0\" >1</td>\n",
       "            </tr>\n",
       "            <tr>\n",
       "                        <th id=\"T_677fd05c_9fdc_11e9_b3aa_f82819e4939alevel0_row8\" class=\"row_heading level0 row8\" >Rio+20</th>\n",
       "                        <td id=\"T_677fd05c_9fdc_11e9_b3aa_f82819e4939arow8_col0\" class=\"data row8 col0\" >1</td>\n",
       "            </tr>\n",
       "            <tr>\n",
       "                        <th id=\"T_677fd05c_9fdc_11e9_b3aa_f82819e4939alevel0_row9\" class=\"row_heading level0 row9\" >United Nations systemWe</th>\n",
       "                        <td id=\"T_677fd05c_9fdc_11e9_b3aa_f82819e4939arow9_col0\" class=\"data row9 col0\" >1</td>\n",
       "            </tr>\n",
       "    </tbody></table>"
      ],
      "text/plain": [
       "<pandas.io.formats.style.Styler at 0x16703067ba8>"
      ]
     },
     "execution_count": 103,
     "metadata": {},
     "output_type": "execute_result"
    }
   ],
   "source": [
    "import seaborn as sns\n",
    "\n",
    "cm = sns.light_palette(\"green\", as_cmap=True)\n",
    "\n",
    "s = group.head(10).style.background_gradient(cmap=cm)\n",
    "s"
   ]
  },
  {
   "cell_type": "markdown",
   "metadata": {},
   "source": [
    "### 5. Most important keywords and phrases"
   ]
  },
  {
   "cell_type": "code",
   "execution_count": 160,
   "metadata": {},
   "outputs": [
    {
     "data": {
      "text/html": [
       "<style  type=\"text/css\" >\n",
       "    #T_29169592_9fe2_11e9_a571_f82819e4939a td {\n",
       "          font-size: 14px;\n",
       "    }    #T_29169592_9fe2_11e9_a571_f82819e4939arow0_col1 {\n",
       "            background-color:  #008000;\n",
       "            color:  #f1f1f1;\n",
       "        }    #T_29169592_9fe2_11e9_a571_f82819e4939arow1_col1 {\n",
       "            background-color:  #5db35d;\n",
       "            color:  #000000;\n",
       "        }    #T_29169592_9fe2_11e9_a571_f82819e4939arow2_col1 {\n",
       "            background-color:  #97d497;\n",
       "            color:  #000000;\n",
       "        }    #T_29169592_9fe2_11e9_a571_f82819e4939arow3_col1 {\n",
       "            background-color:  #9dd79d;\n",
       "            color:  #000000;\n",
       "        }    #T_29169592_9fe2_11e9_a571_f82819e4939arow4_col1 {\n",
       "            background-color:  #b8e6b8;\n",
       "            color:  #000000;\n",
       "        }    #T_29169592_9fe2_11e9_a571_f82819e4939arow5_col1 {\n",
       "            background-color:  #bae7ba;\n",
       "            color:  #000000;\n",
       "        }    #T_29169592_9fe2_11e9_a571_f82819e4939arow6_col1 {\n",
       "            background-color:  #cdf2cd;\n",
       "            color:  #000000;\n",
       "        }    #T_29169592_9fe2_11e9_a571_f82819e4939arow7_col1 {\n",
       "            background-color:  #cef2ce;\n",
       "            color:  #000000;\n",
       "        }    #T_29169592_9fe2_11e9_a571_f82819e4939arow8_col1 {\n",
       "            background-color:  #ddfbdd;\n",
       "            color:  #000000;\n",
       "        }    #T_29169592_9fe2_11e9_a571_f82819e4939arow9_col1 {\n",
       "            background-color:  #e5ffe5;\n",
       "            color:  #000000;\n",
       "        }</style><table id=\"T_29169592_9fe2_11e9_a571_f82819e4939a\" ><thead>    <tr>        <th class=\"col_heading level0 col0\" >term</th>        <th class=\"col_heading level0 col1\" >rank</th>    </tr></thead><tbody>\n",
       "                <tr>\n",
       "                                <td id=\"T_29169592_9fe2_11e9_a571_f82819e4939arow0_col0\" class=\"data row0 col0\" >un environment assembly</td>\n",
       "                        <td id=\"T_29169592_9fe2_11e9_a571_f82819e4939arow0_col1\" class=\"data row0 col1\" >0.0591341</td>\n",
       "            </tr>\n",
       "            <tr>\n",
       "                                <td id=\"T_29169592_9fe2_11e9_a571_f82819e4939arow1_col0\" class=\"data row1 col0\" >un environment programme</td>\n",
       "                        <td id=\"T_29169592_9fe2_11e9_a571_f82819e4939arow1_col1\" class=\"data row1 col1\" >0.0494191</td>\n",
       "            </tr>\n",
       "            <tr>\n",
       "                                <td id=\"T_29169592_9fe2_11e9_a571_f82819e4939arow2_col0\" class=\"data row2 col0\" >un environment</td>\n",
       "                        <td id=\"T_29169592_9fe2_11e9_a571_f82819e4939arow2_col1\" class=\"data row2 col1\" >0.0432702</td>\n",
       "            </tr>\n",
       "            <tr>\n",
       "                                <td id=\"T_29169592_9fe2_11e9_a571_f82819e4939arow3_col0\" class=\"data row3 col0\" >different multilateral environmental agreement</td>\n",
       "                        <td id=\"T_29169592_9fe2_11e9_a571_f82819e4939arow3_col1\" class=\"data row3 col1\" >0.0426883</td>\n",
       "            </tr>\n",
       "            <tr>\n",
       "                                <td id=\"T_29169592_9fe2_11e9_a571_f82819e4939arow4_col0\" class=\"data row4 col0\" >united nations member states</td>\n",
       "                        <td id=\"T_29169592_9fe2_11e9_a571_f82819e4939arow4_col1\" class=\"data row4 col1\" >0.0397549</td>\n",
       "            </tr>\n",
       "            <tr>\n",
       "                                <td id=\"T_29169592_9fe2_11e9_a571_f82819e4939arow5_col0\" class=\"data row5 col0\" >effective international environmental governance</td>\n",
       "                        <td id=\"T_29169592_9fe2_11e9_a571_f82819e4939arow5_col1\" class=\"data row5 col1\" >0.0396399</td>\n",
       "            </tr>\n",
       "            <tr>\n",
       "                                <td id=\"T_29169592_9fe2_11e9_a571_f82819e4939arow6_col0\" class=\"data row6 col0\" >united nations body</td>\n",
       "                        <td id=\"T_29169592_9fe2_11e9_a571_f82819e4939arow6_col1\" class=\"data row6 col1\" >0.0376542</td>\n",
       "            </tr>\n",
       "            <tr>\n",
       "                                <td id=\"T_29169592_9fe2_11e9_a571_f82819e4939arow7_col0\" class=\"data row7 col0\" >international environmental governance system</td>\n",
       "                        <td id=\"T_29169592_9fe2_11e9_a571_f82819e4939arow7_col1\" class=\"data row7 col1\" >0.0375486</td>\n",
       "            </tr>\n",
       "            <tr>\n",
       "                                <td id=\"T_29169592_9fe2_11e9_a571_f82819e4939arow8_col0\" class=\"data row8 col0\" >united nations reform</td>\n",
       "                        <td id=\"T_29169592_9fe2_11e9_a571_f82819e4939arow8_col1\" class=\"data row8 col1\" >0.0358983</td>\n",
       "            </tr>\n",
       "            <tr>\n",
       "                                <td id=\"T_29169592_9fe2_11e9_a571_f82819e4939arow9_col0\" class=\"data row9 col0\" >multilateral environmental agreement</td>\n",
       "                        <td id=\"T_29169592_9fe2_11e9_a571_f82819e4939arow9_col1\" class=\"data row9 col1\" >0.0350259</td>\n",
       "            </tr>\n",
       "    </tbody></table>"
      ],
      "text/plain": [
       "<pandas.io.formats.style.Styler at 0x1670272c400>"
      ]
     },
     "execution_count": 160,
     "metadata": {},
     "output_type": "execute_result"
    }
   ],
   "source": [
    "from textacy.keyterms import key_terms_from_semantic_network\n",
    "key_terms = key_terms_from_semantic_network(doc,join_key_words=True)\n",
    "keyterms_df=pd.DataFrame(key_terms,columns=['term','rank'])\n",
    "keyterms_df.index = keyterms_df.term\n",
    "\n",
    "td_props = [\n",
    "  ('font-size', '14px')\n",
    "  ]\n",
    "styles = [\n",
    "  dict(selector=\"td\", props=td_props)\n",
    "  ]\n",
    "(keyterms_df.style\n",
    " .background_gradient(cmap=cm)\n",
    ".hide_index()\n",
    ".set_table_styles(styles))"
   ]
  },
  {
   "cell_type": "markdown",
   "metadata": {},
   "source": [
    "### The list above extracted keyworwds and phrases from a <a href='https://en.wikipedia.org/wiki/Semantic_network'>semantic network</a>. The top ranking phrases are \n",
    "selected based on how frequently the words in them co-occur.\n",
    "\n",
    "The basic explanation is that, the fact that we got these phrases show that they accur very frequently in the text analysed and appear to be central in the contexts that they appear in.\n",
    "It is no surprise on reading the whole text that these phrases are actually central to the subject matter of the full text"
   ]
  },
  {
   "cell_type": "code",
   "execution_count": 161,
   "metadata": {},
   "outputs": [],
   "source": [
    "# Q2: What are the most common multi-word phrases?\n",
    "# We use textacy from this point on"
   ]
  },
  {
   "cell_type": "code",
   "execution_count": 137,
   "metadata": {},
   "outputs": [
    {
     "data": {
      "text/plain": [
       "Counter({'un environment': 24,\n",
       "         'environment programme': 2,\n",
       "         'climate change': 2,\n",
       "         'natural resources': 4,\n",
       "         'united nations': 15,\n",
       "         'we need': 4,\n",
       "         '2030 agenda': 3,\n",
       "         'the un': 2,\n",
       "         'environment assembly': 12,\n",
       "         'international environmental': 4,\n",
       "         'environmental governance': 4,\n",
       "         'reform efforts': 2,\n",
       "         'multilateral environmental': 8,\n",
       "         'environmental agreements': 7,\n",
       "         'environment’s': 4,\n",
       "         'member states': 2,\n",
       "         'environmental agenda': 3,\n",
       "         'nations system': 2,\n",
       "         'review process': 2,\n",
       "         'governing bodies': 3,\n",
       "         '’s role': 2,\n",
       "         'nations agencies': 2,\n",
       "         'nations reform': 2})"
      ]
     },
     "execution_count": 137,
     "metadata": {},
     "output_type": "execute_result"
    }
   ],
   "source": [
    "# NOTE: we use the previously created doc from the text statistics section\n",
    "\n",
    "common_phrases = list(textacy.extract.ngrams(doc,n=2,filter_stops=True,filter_punct=True,min_freq=2))\n",
    "common_phrases = [phrase.text.lower() for phrase in common_phrases]\n",
    "commonPhrases_counts = Counter(common_phrases)\n",
    "commonPhrases_counts"
   ]
  },
  {
   "cell_type": "code",
   "execution_count": 22,
   "metadata": {},
   "outputs": [],
   "source": [
    "# Q3: What are the main references to people, places, and organizations (also called entities)in the text?"
   ]
  },
  {
   "cell_type": "code",
   "execution_count": 139,
   "metadata": {},
   "outputs": [
    {
     "data": {
      "text/plain": [
       "[('Erik Lundberg', 'PERSON'),\n",
       " ('Finland', 'GPE'),\n",
       " ('Kenya', 'GPE'),\n",
       " ('Somalia', 'GPE'),\n",
       " ('Uganda', 'GPE'),\n",
       " ('Seychelles and Permanent Representative', 'ORG'),\n",
       " ('the UN Environment Programme', 'ORG'),\n",
       " ('UN-Habitat', 'ORG'),\n",
       " ('Europe', 'LOC'),\n",
       " ('the United States', 'GPE'),\n",
       " ('Japan', 'GPE'),\n",
       " ('Africa', 'LOC'),\n",
       " ('Asia', 'LOC'),\n",
       " ('East Africa', 'GPE'),\n",
       " ('Somalia', 'GPE'),\n",
       " ('the United Nations', 'ORG'),\n",
       " ('Time', 'ORG'),\n",
       " ('Finland', 'GPE'),\n",
       " ('Finland', 'GPE'),\n",
       " ('The UN Environment Assembly', 'ORG'),\n",
       " ('the UN Environment Programme', 'ORG'),\n",
       " ('Rio+20', 'GPE'),\n",
       " ('UN Environment', 'ORG'),\n",
       " ('UN Environment’s', 'ORG'),\n",
       " ('UN Environment Assembly', 'ORG'),\n",
       " ('United Nations', 'ORG'),\n",
       " ('the UN Environment Assembly', 'ORG'),\n",
       " ('United Nations', 'ORG'),\n",
       " ('United Nations', 'ORG'),\n",
       " ('the UN Environment Assembly', 'ORG'),\n",
       " ('UN Environment', 'ORG'),\n",
       " ('the United Nations', 'ORG'),\n",
       " ('the UN Environment Assembly', 'ORG'),\n",
       " ('the Fifth UN Environment Assembly', 'ORG'),\n",
       " ('the Fourth Assembly', 'ORG'),\n",
       " ('UN Environment Assembly', 'ORG'),\n",
       " ('Finland', 'GPE'),\n",
       " ('the European Council', 'ORG'),\n",
       " ('the European Union’s', 'ORG'),\n",
       " ('the United Nations systemWe', 'ORG'),\n",
       " ('UN Environment’s', 'ORG'),\n",
       " ('Assembly', 'ORG'),\n",
       " ('United Nations', 'ORG'),\n",
       " ('the UN Environment Assembly', 'ORG'),\n",
       " ('United Nations', 'ORG'),\n",
       " ('the High-Level Political Forum', 'GPE'),\n",
       " ('Finland', 'GPE'),\n",
       " ('UN Environment’s', 'ORG'),\n",
       " ('the United Nations', 'ORG'),\n",
       " ('United Nations', 'ORG'),\n",
       " ('the Environment Management Group', 'ORG'),\n",
       " ('United Nations', 'ORG'),\n",
       " ('the United Nations', 'ORG'),\n",
       " ('United Nations', 'ORG'),\n",
       " ('UN Environment', 'ORG'),\n",
       " ('UN Environment', 'ORG'),\n",
       " ('United Nations', 'ORG'),\n",
       " ('Finland', 'GPE'),\n",
       " ('the UN Environment Assembly', 'ORG'),\n",
       " ('the Nordic Council of Ministers', 'ORG'),\n",
       " ('the UN Environment Assembly', 'ORG'),\n",
       " ('UN Environment’s', 'ORG'),\n",
       " ('UN Environment Assemblies', 'ORG'),\n",
       " ('The UN Environment Assembly', 'ORG'),\n",
       " ('UN Environment', 'ORG'),\n",
       " ('the UN Environment Assembly', 'ORG')]"
      ]
     },
     "execution_count": 139,
     "metadata": {},
     "output_type": "execute_result"
    }
   ],
   "source": [
    "entities = [(ent.text,ent.label_) for ent in doc.ents if ent.label_ in ['PERSON','ORG','LOC','GPE','']]\n",
    "entities"
   ]
  },
  {
   "cell_type": "markdown",
   "metadata": {},
   "source": [
    "### Observe...\n",
    "that a few of the items extracted as a PERSON was wrong, but then we got it right for most of the remaining text. This is good enough for our purpose, and also we can manually remove the wrong entry"
   ]
  },
  {
   "cell_type": "code",
   "execution_count": 140,
   "metadata": {},
   "outputs": [
    {
     "data": {
      "text/html": [
       "<div>\n",
       "<style scoped>\n",
       "    .dataframe tbody tr th:only-of-type {\n",
       "        vertical-align: middle;\n",
       "    }\n",
       "\n",
       "    .dataframe tbody tr th {\n",
       "        vertical-align: top;\n",
       "    }\n",
       "\n",
       "    .dataframe thead th {\n",
       "        text-align: right;\n",
       "    }\n",
       "</style>\n",
       "<table border=\"1\" class=\"dataframe\">\n",
       "  <thead>\n",
       "    <tr style=\"text-align: right;\">\n",
       "      <th></th>\n",
       "      <th>entity</th>\n",
       "      <th>type</th>\n",
       "      <th>description</th>\n",
       "    </tr>\n",
       "  </thead>\n",
       "  <tbody>\n",
       "    <tr>\n",
       "      <th>0</th>\n",
       "      <td>Erik Lundberg</td>\n",
       "      <td>PERSON</td>\n",
       "      <td>Any person as the word suggests</td>\n",
       "    </tr>\n",
       "    <tr>\n",
       "      <th>1</th>\n",
       "      <td>Finland</td>\n",
       "      <td>GPE</td>\n",
       "      <td>Geopolitical Entity eg country</td>\n",
       "    </tr>\n",
       "    <tr>\n",
       "      <th>2</th>\n",
       "      <td>Kenya</td>\n",
       "      <td>GPE</td>\n",
       "      <td>Geopolitical Entity eg country</td>\n",
       "    </tr>\n",
       "    <tr>\n",
       "      <th>3</th>\n",
       "      <td>Somalia</td>\n",
       "      <td>GPE</td>\n",
       "      <td>Geopolitical Entity eg country</td>\n",
       "    </tr>\n",
       "    <tr>\n",
       "      <th>4</th>\n",
       "      <td>Uganda</td>\n",
       "      <td>GPE</td>\n",
       "      <td>Geopolitical Entity eg country</td>\n",
       "    </tr>\n",
       "  </tbody>\n",
       "</table>\n",
       "</div>"
      ],
      "text/plain": [
       "          entity    type                      description\n",
       "0  Erik Lundberg  PERSON  Any person as the word suggests\n",
       "1        Finland     GPE   Geopolitical Entity eg country\n",
       "2          Kenya     GPE   Geopolitical Entity eg country\n",
       "3        Somalia     GPE   Geopolitical Entity eg country\n",
       "4         Uganda     GPE   Geopolitical Entity eg country"
      ]
     },
     "execution_count": 140,
     "metadata": {},
     "output_type": "execute_result"
    }
   ],
   "source": [
    "description_map = {'GPE':'Geopolitical Entity eg country',\n",
    "                   'LOC':'Location,place etc',\n",
    "                   'ORG':'Organization',\n",
    "                   'PERSON':'Any person as the word suggests'}\n",
    "entity_df=pd.DataFrame(entities,columns=['entity','type'])\n",
    "entity_df['description'] = entity_df['type'].map(description_map)\n",
    "entity_df.head()"
   ]
  },
  {
   "cell_type": "code",
   "execution_count": 163,
   "metadata": {},
   "outputs": [
    {
     "data": {
      "text/html": [
       "<div>\n",
       "<style scoped>\n",
       "    .dataframe tbody tr th:only-of-type {\n",
       "        vertical-align: middle;\n",
       "    }\n",
       "\n",
       "    .dataframe tbody tr th {\n",
       "        vertical-align: top;\n",
       "    }\n",
       "\n",
       "    .dataframe thead th {\n",
       "        text-align: right;\n",
       "    }\n",
       "</style>\n",
       "<table border=\"1\" class=\"dataframe\">\n",
       "  <thead>\n",
       "    <tr style=\"text-align: right;\">\n",
       "      <th></th>\n",
       "      <th>type</th>\n",
       "      <th>description</th>\n",
       "    </tr>\n",
       "    <tr>\n",
       "      <th>entity</th>\n",
       "      <th></th>\n",
       "      <th></th>\n",
       "    </tr>\n",
       "  </thead>\n",
       "  <tbody>\n",
       "    <tr>\n",
       "      <th>United Nations</th>\n",
       "      <td>9</td>\n",
       "      <td>9</td>\n",
       "    </tr>\n",
       "    <tr>\n",
       "      <th>the UN Environment Assembly</th>\n",
       "      <td>7</td>\n",
       "      <td>7</td>\n",
       "    </tr>\n",
       "    <tr>\n",
       "      <th>Finland</th>\n",
       "      <td>6</td>\n",
       "      <td>6</td>\n",
       "    </tr>\n",
       "    <tr>\n",
       "      <th>UN Environment</th>\n",
       "      <td>5</td>\n",
       "      <td>5</td>\n",
       "    </tr>\n",
       "    <tr>\n",
       "      <th>UN Environment’s</th>\n",
       "      <td>4</td>\n",
       "      <td>4</td>\n",
       "    </tr>\n",
       "    <tr>\n",
       "      <th>the United Nations</th>\n",
       "      <td>4</td>\n",
       "      <td>4</td>\n",
       "    </tr>\n",
       "    <tr>\n",
       "      <th>Somalia</th>\n",
       "      <td>2</td>\n",
       "      <td>2</td>\n",
       "    </tr>\n",
       "    <tr>\n",
       "      <th>The UN Environment Assembly</th>\n",
       "      <td>2</td>\n",
       "      <td>2</td>\n",
       "    </tr>\n",
       "    <tr>\n",
       "      <th>UN Environment Assembly</th>\n",
       "      <td>2</td>\n",
       "      <td>2</td>\n",
       "    </tr>\n",
       "    <tr>\n",
       "      <th>the UN Environment Programme</th>\n",
       "      <td>2</td>\n",
       "      <td>2</td>\n",
       "    </tr>\n",
       "    <tr>\n",
       "      <th>Uganda</th>\n",
       "      <td>1</td>\n",
       "      <td>1</td>\n",
       "    </tr>\n",
       "    <tr>\n",
       "      <th>the Fifth UN Environment Assembly</th>\n",
       "      <td>1</td>\n",
       "      <td>1</td>\n",
       "    </tr>\n",
       "    <tr>\n",
       "      <th>the High-Level Political Forum</th>\n",
       "      <td>1</td>\n",
       "      <td>1</td>\n",
       "    </tr>\n",
       "    <tr>\n",
       "      <th>the Nordic Council of Ministers</th>\n",
       "      <td>1</td>\n",
       "      <td>1</td>\n",
       "    </tr>\n",
       "    <tr>\n",
       "      <th>the European Union’s</th>\n",
       "      <td>1</td>\n",
       "      <td>1</td>\n",
       "    </tr>\n",
       "    <tr>\n",
       "      <th>the European Council</th>\n",
       "      <td>1</td>\n",
       "      <td>1</td>\n",
       "    </tr>\n",
       "    <tr>\n",
       "      <th>the Environment Management Group</th>\n",
       "      <td>1</td>\n",
       "      <td>1</td>\n",
       "    </tr>\n",
       "    <tr>\n",
       "      <th>the United Nations systemWe</th>\n",
       "      <td>1</td>\n",
       "      <td>1</td>\n",
       "    </tr>\n",
       "    <tr>\n",
       "      <th>the Fourth Assembly</th>\n",
       "      <td>1</td>\n",
       "      <td>1</td>\n",
       "    </tr>\n",
       "    <tr>\n",
       "      <th>Africa</th>\n",
       "      <td>1</td>\n",
       "      <td>1</td>\n",
       "    </tr>\n",
       "    <tr>\n",
       "      <th>UN-Habitat</th>\n",
       "      <td>1</td>\n",
       "      <td>1</td>\n",
       "    </tr>\n",
       "    <tr>\n",
       "      <th>Asia</th>\n",
       "      <td>1</td>\n",
       "      <td>1</td>\n",
       "    </tr>\n",
       "    <tr>\n",
       "      <th>UN Environment Assemblies</th>\n",
       "      <td>1</td>\n",
       "      <td>1</td>\n",
       "    </tr>\n",
       "    <tr>\n",
       "      <th>Time</th>\n",
       "      <td>1</td>\n",
       "      <td>1</td>\n",
       "    </tr>\n",
       "    <tr>\n",
       "      <th>Seychelles and Permanent Representative</th>\n",
       "      <td>1</td>\n",
       "      <td>1</td>\n",
       "    </tr>\n",
       "    <tr>\n",
       "      <th>Rio+20</th>\n",
       "      <td>1</td>\n",
       "      <td>1</td>\n",
       "    </tr>\n",
       "    <tr>\n",
       "      <th>Kenya</th>\n",
       "      <td>1</td>\n",
       "      <td>1</td>\n",
       "    </tr>\n",
       "    <tr>\n",
       "      <th>Japan</th>\n",
       "      <td>1</td>\n",
       "      <td>1</td>\n",
       "    </tr>\n",
       "    <tr>\n",
       "      <th>Europe</th>\n",
       "      <td>1</td>\n",
       "      <td>1</td>\n",
       "    </tr>\n",
       "    <tr>\n",
       "      <th>Erik Lundberg</th>\n",
       "      <td>1</td>\n",
       "      <td>1</td>\n",
       "    </tr>\n",
       "    <tr>\n",
       "      <th>East Africa</th>\n",
       "      <td>1</td>\n",
       "      <td>1</td>\n",
       "    </tr>\n",
       "    <tr>\n",
       "      <th>Assembly</th>\n",
       "      <td>1</td>\n",
       "      <td>1</td>\n",
       "    </tr>\n",
       "    <tr>\n",
       "      <th>the United States</th>\n",
       "      <td>1</td>\n",
       "      <td>1</td>\n",
       "    </tr>\n",
       "  </tbody>\n",
       "</table>\n",
       "</div>"
      ],
      "text/plain": [
       "                                         type  description\n",
       "entity                                                    \n",
       "United Nations                              9            9\n",
       "the UN Environment Assembly                 7            7\n",
       "Finland                                     6            6\n",
       "UN Environment                              5            5\n",
       "UN Environment’s                            4            4\n",
       "the United Nations                          4            4\n",
       "Somalia                                     2            2\n",
       "The UN Environment Assembly                 2            2\n",
       "UN Environment Assembly                     2            2\n",
       "the UN Environment Programme                2            2\n",
       "Uganda                                      1            1\n",
       "the Fifth UN Environment Assembly           1            1\n",
       "the High-Level Political Forum              1            1\n",
       "the Nordic Council of Ministers             1            1\n",
       "the European Union’s                        1            1\n",
       "the European Council                        1            1\n",
       "the Environment Management Group            1            1\n",
       "the United Nations systemWe                 1            1\n",
       "the Fourth Assembly                         1            1\n",
       "Africa                                      1            1\n",
       "UN-Habitat                                  1            1\n",
       "Asia                                        1            1\n",
       "UN Environment Assemblies                   1            1\n",
       "Time                                        1            1\n",
       "Seychelles and Permanent Representative     1            1\n",
       "Rio+20                                      1            1\n",
       "Kenya                                       1            1\n",
       "Japan                                       1            1\n",
       "Europe                                      1            1\n",
       "Erik Lundberg                               1            1\n",
       "East Africa                                 1            1\n",
       "Assembly                                    1            1\n",
       "the United States                           1            1"
      ]
     },
     "execution_count": 163,
     "metadata": {},
     "output_type": "execute_result"
    }
   ],
   "source": [
    "entity_df.groupby(by='entity').count().sort_values(by='type',ascending=False)"
   ]
  },
  {
   "cell_type": "markdown",
   "metadata": {},
   "source": [
    "### Note:\n"
   ]
  },
  {
   "cell_type": "markdown",
   "metadata": {},
   "source": [
    "### Conclusion\n",
    "\n",
    "In this project we extracted insights from a body of raw text by applying a series of techniques including document summarization, keyword extraction as well as entity extraction. The result is beautiful in the fact that it can be applied to a large body of text to summarize and extract the most important bits of information."
   ]
  }
 ],
 "metadata": {
  "kernelspec": {
   "display_name": "Python 3",
   "language": "python",
   "name": "python3"
  },
  "language_info": {
   "codemirror_mode": {
    "name": "ipython",
    "version": 3
   },
   "file_extension": ".py",
   "mimetype": "text/x-python",
   "name": "python",
   "nbconvert_exporter": "python",
   "pygments_lexer": "ipython3",
   "version": "3.6.7"
  }
 },
 "nbformat": 4,
 "nbformat_minor": 2
}
